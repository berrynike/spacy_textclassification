{
 "cells": [
  {
   "cell_type": "code",
   "execution_count": 1,
   "metadata": {},
   "outputs": [],
   "source": [
    "import spacy\n",
    "import pandas as pd\n",
    "import seaborn as sns\n",
    "import matplotlib.pyplot as plt"
   ]
  },
  {
   "cell_type": "markdown",
   "metadata": {},
   "source": [
    "## Data Preperation"
   ]
  },
  {
   "cell_type": "code",
   "execution_count": 2,
   "metadata": {},
   "outputs": [
    {
     "name": "stdout",
     "output_type": "stream",
     "text": [
      "<class 'pandas.core.frame.DataFrame'>\n",
      "RangeIndex: 126220 entries, 0 to 126219\n",
      "Data columns (total 3 columns):\n",
      " #   Column                 Non-Null Count   Dtype \n",
      "---  ------                 --------------   ----- \n",
      " 0   Zusammenfassung        126220 non-null  object\n",
      " 1   Description            97054 non-null   object\n",
      " 2   Verantwortliche Rolle  126220 non-null  object\n",
      "dtypes: object(3)\n",
      "memory usage: 2.9+ MB\n"
     ]
    },
    {
     "data": {
      "text/plain": [
       "None"
      ]
     },
     "metadata": {},
     "output_type": "display_data"
    },
    {
     "data": {
      "text/html": [
       "<div>\n",
       "<style scoped>\n",
       "    .dataframe tbody tr th:only-of-type {\n",
       "        vertical-align: middle;\n",
       "    }\n",
       "\n",
       "    .dataframe tbody tr th {\n",
       "        vertical-align: top;\n",
       "    }\n",
       "\n",
       "    .dataframe thead th {\n",
       "        text-align: right;\n",
       "    }\n",
       "</style>\n",
       "<table border=\"1\" class=\"dataframe\">\n",
       "  <thead>\n",
       "    <tr style=\"text-align: right;\">\n",
       "      <th></th>\n",
       "      <th>Zusammenfassung</th>\n",
       "      <th>Description</th>\n",
       "      <th>Verantwortliche Rolle</th>\n",
       "    </tr>\n",
       "  </thead>\n",
       "  <tbody>\n",
       "    <tr>\n",
       "      <th>0</th>\n",
       "      <td>Troubleshooting WIN10 VPN PRobleme</td>\n",
       "      <td>Probleme mit SSLVPN auf WIN10 Client</td>\n",
       "      <td>Service Desk</td>\n",
       "    </tr>\n",
       "    <tr>\n",
       "      <th>1</th>\n",
       "      <td>Neuaufsetzen eines IT-Leihsystems (DEEI-NB-10584)</td>\n",
       "      <td>Neuaufsetzen eines IT-Leihsystems (DEEI-NB-10584)</td>\n",
       "      <td>2nd Level Support</td>\n",
       "    </tr>\n",
       "    <tr>\n",
       "      <th>2</th>\n",
       "      <td>SRQ: ToDo B-1973 - mod IT Services GmbH - Seba...</td>\n",
       "      <td>Bitte das NB 7480 für Sebastian einrichten.Ser...</td>\n",
       "      <td>Service Desk</td>\n",
       "    </tr>\n",
       "    <tr>\n",
       "      <th>3</th>\n",
       "      <td>Internet line NLET</td>\n",
       "      <td>Hello together,as there are no news since 17th...</td>\n",
       "      <td>Service Desk</td>\n",
       "    </tr>\n",
       "    <tr>\n",
       "      <th>4</th>\n",
       "      <td>AW: Internet line NLET</td>\n",
       "      <td>Hi Arnaud,any news regarding the new internet ...</td>\n",
       "      <td>Service Desk</td>\n",
       "    </tr>\n",
       "  </tbody>\n",
       "</table>\n",
       "</div>"
      ],
      "text/plain": [
       "                                     Zusammenfassung  \\\n",
       "0                 Troubleshooting WIN10 VPN PRobleme   \n",
       "1  Neuaufsetzen eines IT-Leihsystems (DEEI-NB-10584)   \n",
       "2  SRQ: ToDo B-1973 - mod IT Services GmbH - Seba...   \n",
       "3                                 Internet line NLET   \n",
       "4                             AW: Internet line NLET   \n",
       "\n",
       "                                         Description Verantwortliche Rolle  \n",
       "0               Probleme mit SSLVPN auf WIN10 Client          Service Desk  \n",
       "1  Neuaufsetzen eines IT-Leihsystems (DEEI-NB-10584)     2nd Level Support  \n",
       "2  Bitte das NB 7480 für Sebastian einrichten.Ser...          Service Desk  \n",
       "3  Hello together,as there are no news since 17th...          Service Desk  \n",
       "4  Hi Arnaud,any news regarding the new internet ...          Service Desk  "
      ]
     },
     "execution_count": 2,
     "metadata": {},
     "output_type": "execute_result"
    }
   ],
   "source": [
    "df = pd.read_csv(\"data/Export_KI_ALL_Tickets_202005121335.csv\")\n",
    "df = df[[\"Zusammenfassung\", \"Description\", \"Verantwortliche Rolle\"]]\n",
    "display(df.info())\n",
    "df.head()"
   ]
  },
  {
   "cell_type": "code",
   "execution_count": null,
   "metadata": {},
   "outputs": [],
   "source": []
  },
  {
   "cell_type": "code",
   "execution_count": 3,
   "metadata": {},
   "outputs": [
    {
     "name": "stdout",
     "output_type": "stream",
     "text": [
      "<class 'pandas.core.frame.DataFrame'>\n",
      "Int64Index: 107388 entries, 0 to 126218\n",
      "Data columns (total 3 columns):\n",
      " #   Column                 Non-Null Count   Dtype \n",
      "---  ------                 --------------   ----- \n",
      " 0   Zusammenfassung        107388 non-null  object\n",
      " 1   Description            83935 non-null   object\n",
      " 2   Verantwortliche Rolle  107388 non-null  object\n",
      "dtypes: object(3)\n",
      "memory usage: 3.3+ MB\n"
     ]
    },
    {
     "data": {
      "text/plain": [
       "None"
      ]
     },
     "metadata": {},
     "output_type": "display_data"
    },
    {
     "data": {
      "text/html": [
       "<div>\n",
       "<style scoped>\n",
       "    .dataframe tbody tr th:only-of-type {\n",
       "        vertical-align: middle;\n",
       "    }\n",
       "\n",
       "    .dataframe tbody tr th {\n",
       "        vertical-align: top;\n",
       "    }\n",
       "\n",
       "    .dataframe thead th {\n",
       "        text-align: right;\n",
       "    }\n",
       "</style>\n",
       "<table border=\"1\" class=\"dataframe\">\n",
       "  <thead>\n",
       "    <tr style=\"text-align: right;\">\n",
       "      <th></th>\n",
       "      <th>Zusammenfassung</th>\n",
       "      <th>Description</th>\n",
       "      <th>Verantwortliche Rolle</th>\n",
       "    </tr>\n",
       "  </thead>\n",
       "  <tbody>\n",
       "    <tr>\n",
       "      <th>0</th>\n",
       "      <td>Troubleshooting WIN10 VPN PRobleme</td>\n",
       "      <td>Probleme mit SSLVPN auf WIN10 Client</td>\n",
       "      <td>Service Desk</td>\n",
       "    </tr>\n",
       "    <tr>\n",
       "      <th>1</th>\n",
       "      <td>Neuaufsetzen eines IT-Leihsystems (DEEI-NB-10584)</td>\n",
       "      <td>Neuaufsetzen eines IT-Leihsystems (DEEI-NB-10584)</td>\n",
       "      <td>2nd Level Support</td>\n",
       "    </tr>\n",
       "    <tr>\n",
       "      <th>2</th>\n",
       "      <td>SRQ: ToDo B-1973 - mod IT Services GmbH - Seba...</td>\n",
       "      <td>Bitte das NB 7480 für Sebastian einrichten.Ser...</td>\n",
       "      <td>Service Desk</td>\n",
       "    </tr>\n",
       "    <tr>\n",
       "      <th>3</th>\n",
       "      <td>Internet line NLET</td>\n",
       "      <td>Hello together,as there are no news since 17th...</td>\n",
       "      <td>Service Desk</td>\n",
       "    </tr>\n",
       "    <tr>\n",
       "      <th>4</th>\n",
       "      <td>AW: Internet line NLET</td>\n",
       "      <td>Hi Arnaud,any news regarding the new internet ...</td>\n",
       "      <td>Service Desk</td>\n",
       "    </tr>\n",
       "  </tbody>\n",
       "</table>\n",
       "</div>"
      ],
      "text/plain": [
       "                                     Zusammenfassung  \\\n",
       "0                 Troubleshooting WIN10 VPN PRobleme   \n",
       "1  Neuaufsetzen eines IT-Leihsystems (DEEI-NB-10584)   \n",
       "2  SRQ: ToDo B-1973 - mod IT Services GmbH - Seba...   \n",
       "3                                 Internet line NLET   \n",
       "4                             AW: Internet line NLET   \n",
       "\n",
       "                                         Description Verantwortliche Rolle  \n",
       "0               Probleme mit SSLVPN auf WIN10 Client          Service Desk  \n",
       "1  Neuaufsetzen eines IT-Leihsystems (DEEI-NB-10584)     2nd Level Support  \n",
       "2  Bitte das NB 7480 für Sebastian einrichten.Ser...          Service Desk  \n",
       "3  Hello together,as there are no news since 17th...          Service Desk  \n",
       "4  Hi Arnaud,any news regarding the new internet ...          Service Desk  "
      ]
     },
     "execution_count": 3,
     "metadata": {},
     "output_type": "execute_result"
    }
   ],
   "source": [
    "rel_rols =  [\n",
    "    \"2nd Level Support\",\n",
    "    \"Endpoint Management Services\",\n",
    "    \"Endpoint Security\",\n",
    "    \"Firewall/Gateway Services\",\n",
    "    \"Floorwalker\",\n",
    "    \"Floorwalker KWS Berlin\",\n",
    "    \"Hardware Management\",\n",
    "    \"Matrix Fachteam\",\n",
    "    \"Matrix KWS 2nd Level\",\n",
    "    \"Matrix SZFG 2nd Level\",\n",
    "    \"midsize IT\",\n",
    "    \"Mobile Support\",\n",
    "    \"Network Services\",\n",
    "    \"RedLabel\",\n",
    "    \"Schwachstellenmanagement\",\n",
    "    \"Service Desk\"]\n",
    "df = df[df[\"Verantwortliche Rolle\"].isin(rel_rols)]\n",
    "display(df.info())\n",
    "df.head()"
   ]
  },
  {
   "cell_type": "code",
   "execution_count": 4,
   "metadata": {},
   "outputs": [
    {
     "data": {
      "image/png": "[encoded data removed]",
      "text/plain": [
       "<Figure size 432x288 with 1 Axes>"
      ]
     },
     "metadata": {
      "needs_background": "light"
     },
     "output_type": "display_data"
    }
   ],
   "source": [
    "sns.countplot(data=df, x=\"Verantwortliche Rolle\", orient=\"v\")\n",
    "plt.xticks(rotation=90)\n",
    "plt.show()"
   ]
  },
  {
   "cell_type": "markdown",
   "metadata": {},
   "source": [
    "## Text Processing with Spacy"
   ]
  },
  {
   "cell_type": "code",
   "execution_count": 5,
   "metadata": {},
   "outputs": [],
   "source": [
    "nlp_en_md = spacy.load(\"en_core_web_md\")\n",
    "nlp_de_md = spacy.load(\"de_core_news_md\")"
   ]
  },
  {
   "cell_type": "code",
   "execution_count": 6,
   "metadata": {},
   "outputs": [
    {
     "data": {
      "text/plain": [
       "Abwesensheitsnachricht                 239\n",
       "Out of Office                          235\n",
       "Systemanmeldung nicht mehr möglich.    199\n",
       "AD Konto gesperrt                      155\n",
       "gesperrtes AD Konto                    132\n",
       "Name: Zusammenfassung, dtype: int64"
      ]
     },
     "execution_count": 6,
     "metadata": {},
     "output_type": "execute_result"
    }
   ],
   "source": [
    "df[df[\"Verantwortliche Rolle\"]==\"Service Desk\"][\"Zusammenfassung\"].value_counts().head()"
   ]
  },
  {
   "cell_type": "code",
   "execution_count": 7,
   "metadata": {},
   "outputs": [],
   "source": [
    "text = \"gesperrt Konto Bitlocker Recovery Systemanmeldung Safenet nötig User\""
   ]
  },
  {
   "cell_type": "code",
   "execution_count": 8,
   "metadata": {},
   "outputs": [
    {
     "name": "stdout",
     "output_type": "stream",
     "text": [
      "German Model\n"
     ]
    },
    {
     "data": {
      "text/html": [
       "<div>\n",
       "<style scoped>\n",
       "    .dataframe tbody tr th:only-of-type {\n",
       "        vertical-align: middle;\n",
       "    }\n",
       "\n",
       "    .dataframe tbody tr th {\n",
       "        vertical-align: top;\n",
       "    }\n",
       "\n",
       "    .dataframe thead th {\n",
       "        text-align: right;\n",
       "    }\n",
       "</style>\n",
       "<table border=\"1\" class=\"dataframe\">\n",
       "  <thead>\n",
       "    <tr style=\"text-align: right;\">\n",
       "      <th>token</th>\n",
       "      <th>gesperrt</th>\n",
       "      <th>Konto</th>\n",
       "      <th>Bitlocker</th>\n",
       "      <th>Recovery</th>\n",
       "      <th>Systemanmeldung</th>\n",
       "      <th>Safenet</th>\n",
       "      <th>nötig</th>\n",
       "      <th>User</th>\n",
       "    </tr>\n",
       "  </thead>\n",
       "  <tbody>\n",
       "    <tr>\n",
       "      <th>has_vector</th>\n",
       "      <td>True</td>\n",
       "      <td>False</td>\n",
       "      <td>False</td>\n",
       "      <td>True</td>\n",
       "      <td>False</td>\n",
       "      <td>False</td>\n",
       "      <td>True</td>\n",
       "      <td>True</td>\n",
       "    </tr>\n",
       "    <tr>\n",
       "      <th>vector_norm</th>\n",
       "      <td>5.96663</td>\n",
       "      <td>0</td>\n",
       "      <td>0</td>\n",
       "      <td>3.23261</td>\n",
       "      <td>0</td>\n",
       "      <td>0</td>\n",
       "      <td>5.14584</td>\n",
       "      <td>4.48309</td>\n",
       "    </tr>\n",
       "    <tr>\n",
       "      <th>is_oov</th>\n",
       "      <td>False</td>\n",
       "      <td>False</td>\n",
       "      <td>False</td>\n",
       "      <td>False</td>\n",
       "      <td>True</td>\n",
       "      <td>False</td>\n",
       "      <td>False</td>\n",
       "      <td>False</td>\n",
       "    </tr>\n",
       "  </tbody>\n",
       "</table>\n",
       "</div>"
      ],
      "text/plain": [
       "token       gesperrt  Konto Bitlocker Recovery Systemanmeldung Safenet  \\\n",
       "has_vector      True  False     False     True           False   False   \n",
       "vector_norm  5.96663      0         0  3.23261               0       0   \n",
       "is_oov         False  False     False    False            True   False   \n",
       "\n",
       "token          nötig     User  \n",
       "has_vector      True     True  \n",
       "vector_norm  5.14584  4.48309  \n",
       "is_oov         False    False  "
      ]
     },
     "metadata": {},
     "output_type": "display_data"
    },
    {
     "name": "stdout",
     "output_type": "stream",
     "text": [
      "English Model\n"
     ]
    },
    {
     "data": {
      "text/html": [
       "<div>\n",
       "<style scoped>\n",
       "    .dataframe tbody tr th:only-of-type {\n",
       "        vertical-align: middle;\n",
       "    }\n",
       "\n",
       "    .dataframe tbody tr th {\n",
       "        vertical-align: top;\n",
       "    }\n",
       "\n",
       "    .dataframe thead th {\n",
       "        text-align: right;\n",
       "    }\n",
       "</style>\n",
       "<table border=\"1\" class=\"dataframe\">\n",
       "  <thead>\n",
       "    <tr style=\"text-align: right;\">\n",
       "      <th>token</th>\n",
       "      <th>gesperrt</th>\n",
       "      <th>Konto</th>\n",
       "      <th>Bitlocker</th>\n",
       "      <th>Recovery</th>\n",
       "      <th>Systemanmeldung</th>\n",
       "      <th>Safenet</th>\n",
       "      <th>nötig</th>\n",
       "      <th>User</th>\n",
       "    </tr>\n",
       "  </thead>\n",
       "  <tbody>\n",
       "    <tr>\n",
       "      <th>has_vector</th>\n",
       "      <td>True</td>\n",
       "      <td>True</td>\n",
       "      <td>True</td>\n",
       "      <td>True</td>\n",
       "      <td>False</td>\n",
       "      <td>False</td>\n",
       "      <td>True</td>\n",
       "      <td>True</td>\n",
       "    </tr>\n",
       "    <tr>\n",
       "      <th>vector_norm</th>\n",
       "      <td>7.78631</td>\n",
       "      <td>7.29042</td>\n",
       "      <td>7.59149</td>\n",
       "      <td>6.86714</td>\n",
       "      <td>0</td>\n",
       "      <td>0</td>\n",
       "      <td>7.65225</td>\n",
       "      <td>6.72374</td>\n",
       "    </tr>\n",
       "    <tr>\n",
       "      <th>is_oov</th>\n",
       "      <td>False</td>\n",
       "      <td>False</td>\n",
       "      <td>False</td>\n",
       "      <td>False</td>\n",
       "      <td>True</td>\n",
       "      <td>True</td>\n",
       "      <td>False</td>\n",
       "      <td>False</td>\n",
       "    </tr>\n",
       "  </tbody>\n",
       "</table>\n",
       "</div>"
      ],
      "text/plain": [
       "token       gesperrt    Konto Bitlocker Recovery Systemanmeldung Safenet  \\\n",
       "has_vector      True     True      True     True           False   False   \n",
       "vector_norm  7.78631  7.29042   7.59149  6.86714               0       0   \n",
       "is_oov         False    False     False    False            True    True   \n",
       "\n",
       "token          nötig     User  \n",
       "has_vector      True     True  \n",
       "vector_norm  7.65225  6.72374  \n",
       "is_oov         False    False  "
      ]
     },
     "metadata": {},
     "output_type": "display_data"
    }
   ],
   "source": [
    "doc_en_md = nlp_en_md(text)\n",
    "doc_de_md = nlp_de_md(text)\n",
    "\n",
    "def text_vector_df_from_model(doc):\n",
    "    df = pd.DataFrame()\n",
    "    for i, token in enumerate(doc):\n",
    "        df.loc[i,\"token\"] = token.text\n",
    "        df.loc[i,\"has_vector\"] = token.has_vector\n",
    "        df.loc[i,\"vector_norm\"] = token.vector_norm\n",
    "        df.loc[i,\"is_oov\"] = token.is_oov\n",
    "    df = df.set_index([\"token\"])\n",
    "    return df.T\n",
    "\n",
    "print(\"German Model\")\n",
    "test_df_de= text_vector_df_from_model(doc_de_md)\n",
    "display(test_df_de)   \n",
    "\n",
    "print(\"English Model\")\n",
    "test_df_en= text_vector_df_from_model(doc_en_md)\n",
    "display(test_df_en)"
   ]
  },
  {
   "cell_type": "markdown",
   "metadata": {},
   "source": [
    "## Similarity"
   ]
  },
  {
   "cell_type": "code",
   "execution_count": 9,
   "metadata": {},
   "outputs": [
    {
     "name": "stdout",
     "output_type": "stream",
     "text": [
      "2.9985301050480206\n",
      "1.6154512922038762\n",
      "1.0\n",
      "7.591486\n",
      "0.0\n",
      "1.0\n"
     ]
    }
   ],
   "source": [
    "print(doc_en_md.vector_norm)\n",
    "print(doc_de_md.vector_norm)\n",
    "print(doc_en_md.similarity(doc_de_md))\n",
    "print(doc_en_md[2].vector_norm)\n",
    "print(doc_de_md[2].vector_norm)\n",
    "print(doc_en_md[2].similarity(doc_de_md[2]))"
   ]
  },
  {
   "cell_type": "markdown",
   "metadata": {},
   "source": [
    "## Extract Word-Embeddings from Zusammenfassung"
   ]
  },
  {
   "cell_type": "code",
   "execution_count": null,
   "metadata": {},
   "outputs": [],
   "source": []
  }
 ],
 "metadata": {
  "kernelspec": {
   "display_name": "Python 3",
   "language": "python",
   "name": "python3"
  },
  "language_info": {
   "codemirror_mode": {
    "name": "ipython",
    "version": 3
   },
   "file_extension": ".py",
   "mimetype": "text/x-python",
   "name": "python",
   "nbconvert_exporter": "python",
   "pygments_lexer": "ipython3",
   "version": "3.7.7"
  }
 },
 "nbformat": 4,
 "nbformat_minor": 4
}
