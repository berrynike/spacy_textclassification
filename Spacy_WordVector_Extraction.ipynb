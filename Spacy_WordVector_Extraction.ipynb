{
 "cells": [
  {
   "cell_type": "code",
   "execution_count": 1,
   "metadata": {},
   "outputs": [],
   "source": [
    "import spacy\n",
    "import pandas as pd\n",
    "import seaborn as sns\n",
    "import matplotlib.pyplot as plt\n",
    "from datetime import datetime\n",
    "from os.path import join, exists"
   ]
  },
  {
   "cell_type": "markdown",
   "metadata": {},
   "source": [
    "## Extracting WordEmbeddings with Spacy"
   ]
  },
  {
   "cell_type": "markdown",
   "metadata": {},
   "source": [
    "### Params"
   ]
  },
  {
   "cell_type": "code",
   "execution_count": 2,
   "metadata": {},
   "outputs": [],
   "source": [
    "data_path = \"data/Export_KI_ALL_Tickets_202005121335.csv\"\n",
    "assert exists(data_path)\n",
    "save_path = \"data/\"\n",
    "save_name = \"vectors_de_en_core_md_np_stopwords.csv\"\n",
    "\n",
    "# set to true in case you want to do preprocessing before extracting the text-vectors\n",
    "remove_stop_words = False\n",
    "remove_punctuation = False\n",
    "lemmatize = False"
   ]
  },
  {
   "cell_type": "markdown",
   "metadata": {},
   "source": [
    "### Load the Models"
   ]
  },
  {
   "cell_type": "code",
   "execution_count": 3,
   "metadata": {},
   "outputs": [
    {
     "name": "stdout",
     "output_type": "stream",
     "text": [
      "en\n",
      "['tagger', 'parser', 'ner']\n",
      "de\n",
      "['tagger', 'parser', 'ner']\n"
     ]
    }
   ],
   "source": [
    "# english and german pretrained  core models with bulit in word-vectors\n",
    "# run ($ python -m spacy download en_core_web_md) to download model first\n",
    "nlp_en_md = spacy.load(\"en_core_web_md\")\n",
    "print(nlp_en_md.lang)\n",
    "print(nlp_en_md.pipe_names)\n",
    "nlp_de_md = spacy.load(\"de_core_news_md\")\n",
    "print(nlp_de_md.lang)\n",
    "print(nlp_de_md.pipe_names)"
   ]
  },
  {
   "cell_type": "markdown",
   "metadata": {},
   "source": [
    "### Add optional Preprocessing Pipes"
   ]
  },
  {
   "cell_type": "code",
   "execution_count": 4,
   "metadata": {},
   "outputs": [
    {
     "data": {
      "text/plain": [
       "older @ hello 55 searching and ):VPN three plus Internet user"
      ]
     },
     "execution_count": 4,
     "metadata": {},
     "output_type": "execute_result"
    }
   ],
   "source": [
    "# for testing wether pipe works as intended\n",
    "test_text = \"older @ hello 55 searching and ):VPN three plus Internet user\"\n",
    "doc = nlp_en_md(test_text)\n",
    "doc_vec_before = doc.vector\n",
    "doc"
   ]
  },
  {
   "cell_type": "code",
   "execution_count": 5,
   "metadata": {},
   "outputs": [],
   "source": [
    "if remove_stop_words:\n",
    "    \n",
    "    def stopword_remover(doc):\n",
    "        new_doc = spacy.tokens.Doc(doc.vocab, words=[token.text for token in doc if not token.is_stop])\n",
    "        return new_doc\n",
    "    \n",
    "    def add_stopword_remover_to_pipe(model):\n",
    "        if \"stopword_remover\" not in model.pipe_names:\n",
    "            model.add_pipe(stopword_remover, first=True, name=\"stopword_remover\")\n",
    "            print(model.pipe_names)\n",
    "    \n",
    "    add_stopword_remover_to_pipe(nlp_de_md)\n",
    "    add_stopword_remover_to_pipe(nlp_en_md)\n",
    "\n",
    "if remove_punctuation:\n",
    "    \n",
    "    def punctuation_remover(doc):\n",
    "        new_doc = spacy.tokens.Doc(doc.vocab, words=[token.text for token in doc if not token.is_punct])\n",
    "        return new_doc\n",
    "    \n",
    "    def add_punctuation_remover_to_pipe(model):\n",
    "        if \"punctuation_remover\" not in model.pipe_names:\n",
    "            model.add_pipe(punctuation_remover, first=True, name=\"punctuation_remover\")\n",
    "            print(model.pipe_names)\n",
    "    \n",
    "    add_punctuation_remover_to_pipe(nlp_de_md)\n",
    "    add_punctuation_remover_to_pipe(nlp_en_md)\n",
    "\n",
    "\n",
    "if lemmatize:\n",
    "    \n",
    "    def lemmatizer(doc):\n",
    "        new_doc = spacy.tokens.Doc(doc.vocab, words=[token.lemma_ for token in doc])\n",
    "        return new_doc\n",
    "    \n",
    "    def add_lemmatizer_to_pipe(model):\n",
    "        if \"lemmatizer\" not in model.pipe_names:\n",
    "            model.add_pipe(lemmatizer, first=True, name=\"lemmatizer\")\n",
    "            print(model.pipe_names)\n",
    "    \n",
    "    add_lemmatizer_to_pipe(nlp_de_md)\n",
    "    add_lemmatizer_to_pipe(nlp_en_md)\n",
    "    "
   ]
  },
  {
   "cell_type": "code",
   "execution_count": 7,
   "metadata": {},
   "outputs": [
    {
     "name": "stdout",
     "output_type": "stream",
     "text": [
      "older @ hello 55 searching and ):VPN three plus Internet user\n",
      "older @ hello 55 searching and ):VPN three plus Internet user\n",
      "[ True  True  True  True  True  True  True  True  True  True  True  True\n",
      "  True  True  True  True  True  True  True  True  True  True  True  True\n",
      "  True  True  True  True  True  True  True  True  True  True  True  True\n",
      "  True  True  True  True  True  True  True  True  True  True  True  True\n",
      "  True  True  True  True  True  True  True  True  True  True  True  True\n",
      "  True  True  True  True  True  True  True  True  True  True  True  True\n",
      "  True  True  True  True  True  True  True  True  True  True  True  True\n",
      "  True  True  True  True  True  True  True  True  True  True  True  True\n",
      "  True  True  True  True  True  True  True  True  True  True  True  True\n",
      "  True  True  True  True  True  True  True  True  True  True  True  True\n",
      "  True  True  True  True  True  True  True  True  True  True  True  True\n",
      "  True  True  True  True  True  True  True  True  True  True  True  True\n",
      "  True  True  True  True  True  True  True  True  True  True  True  True\n",
      "  True  True  True  True  True  True  True  True  True  True  True  True\n",
      "  True  True  True  True  True  True  True  True  True  True  True  True\n",
      "  True  True  True  True  True  True  True  True  True  True  True  True\n",
      "  True  True  True  True  True  True  True  True  True  True  True  True\n",
      "  True  True  True  True  True  True  True  True  True  True  True  True\n",
      "  True  True  True  True  True  True  True  True  True  True  True  True\n",
      "  True  True  True  True  True  True  True  True  True  True  True  True\n",
      "  True  True  True  True  True  True  True  True  True  True  True  True\n",
      "  True  True  True  True  True  True  True  True  True  True  True  True\n",
      "  True  True  True  True  True  True  True  True  True  True  True  True\n",
      "  True  True  True  True  True  True  True  True  True  True  True  True\n",
      "  True  True  True  True  True  True  True  True  True  True  True  True]\n"
     ]
    }
   ],
   "source": [
    "# for testing wether pipe works as intended\n",
    "doc = nlp_en_md(test_text)\n",
    "doc_vec_after = doc.vector\n",
    "print(test_text)\n",
    "print(doc)\n",
    "print((doc_vec_before == doc_vec_after).all)"
   ]
  },
  {
   "cell_type": "code",
   "execution_count": 6,
   "metadata": {},
   "outputs": [],
   "source": [
    "# use only if you need to remove any pipeobject for some reason\n",
    "# nlp_en_md.remove_pipe('lemmatizer')\n",
    "# nlp_en_md.remove_pipe('punctuation_remover')\n",
    "# nlp_en_md.remove_pipe('stopword_remover')\n",
    "# nlp_de_md.remove_pipe('lemmatizer')\n",
    "# nlp_de_md.remove_pipe('punctuation_remover')\n",
    "# nlp_de_md.remove_pipe('stopword_remover')"
   ]
  },
  {
   "cell_type": "markdown",
   "metadata": {},
   "source": [
    "### Load and prepare the Data"
   ]
  },
  {
   "cell_type": "code",
   "execution_count": 8,
   "metadata": {},
   "outputs": [],
   "source": [
    "use_cols = [\"Zusammenfassung\", \"Description\"]\n",
    "df = pd.read_csv(data_path, usecols = use_cols)\n",
    "# fill nan with empty string\n",
    "df = df.fillna(\"\")"
   ]
  },
  {
   "cell_type": "code",
   "execution_count": 9,
   "metadata": {},
   "outputs": [],
   "source": [
    "# df = df.iloc[:100] # clip data for test purposes\n",
    "texts_short = df[\"Zusammenfassung\"].values\n",
    "texts_long = df[\"Description\"].values"
   ]
  },
  {
   "cell_type": "markdown",
   "metadata": {},
   "source": [
    "### Process the Text with Spacy Models"
   ]
  },
  {
   "cell_type": "code",
   "execution_count": 10,
   "metadata": {},
   "outputs": [],
   "source": [
    "def texts_to_docs(nlp_model, texts):\n",
    "    return list(nlp_model.pipe(texts,disable=[\"tagger\", \"parser\", \"ner\"]))"
   ]
  },
  {
   "cell_type": "code",
   "execution_count": 11,
   "metadata": {},
   "outputs": [
    {
     "name": "stdout",
     "output_type": "stream",
     "text": [
      "Time for procesing Zusammenfassung:  15 seconds\n",
      "Time for procesing Description:  292 seconds\n"
     ]
    },
    {
     "ename": "KeyboardInterrupt",
     "evalue": "",
     "output_type": "error",
     "traceback": [
      "\u001b[1;31m---------------------------------------------------------------------------\u001b[0m",
      "\u001b[1;31mKeyboardInterrupt\u001b[0m                         Traceback (most recent call last)",
      "\u001b[1;32m<ipython-input-11-90a6b41fc3e1>\u001b[0m in \u001b[0;36m<module>\u001b[1;34m\u001b[0m\n\u001b[0;32m      9\u001b[0m \u001b[0mend\u001b[0m \u001b[1;33m=\u001b[0m \u001b[0mdatetime\u001b[0m\u001b[1;33m.\u001b[0m\u001b[0mnow\u001b[0m\u001b[1;33m(\u001b[0m\u001b[1;33m)\u001b[0m\u001b[1;33m\u001b[0m\u001b[1;33m\u001b[0m\u001b[0m\n\u001b[0;32m     10\u001b[0m \u001b[0mprint\u001b[0m\u001b[1;33m(\u001b[0m\u001b[1;34m\"Time for procesing Description: \"\u001b[0m\u001b[1;33m,\u001b[0m\u001b[1;33m(\u001b[0m\u001b[0mend\u001b[0m\u001b[1;33m-\u001b[0m\u001b[0mstart\u001b[0m\u001b[1;33m)\u001b[0m\u001b[1;33m.\u001b[0m\u001b[0mseconds\u001b[0m\u001b[1;33m,\u001b[0m \u001b[1;34m\"seconds\"\u001b[0m\u001b[1;33m)\u001b[0m\u001b[1;33m\u001b[0m\u001b[1;33m\u001b[0m\u001b[0m\n\u001b[1;32m---> 11\u001b[1;33m \u001b[0mdocs_long_de\u001b[0m \u001b[1;33m=\u001b[0m \u001b[0mtexts_to_docs\u001b[0m\u001b[1;33m(\u001b[0m\u001b[0mnlp_de_md\u001b[0m\u001b[1;33m,\u001b[0m \u001b[0mtexts_long\u001b[0m\u001b[1;33m)\u001b[0m\u001b[1;33m\u001b[0m\u001b[1;33m\u001b[0m\u001b[0m\n\u001b[0m",
      "\u001b[1;32m<ipython-input-10-49ed8df9136e>\u001b[0m in \u001b[0;36mtexts_to_docs\u001b[1;34m(nlp_model, texts)\u001b[0m\n\u001b[0;32m      1\u001b[0m \u001b[1;32mdef\u001b[0m \u001b[0mtexts_to_docs\u001b[0m\u001b[1;33m(\u001b[0m\u001b[0mnlp_model\u001b[0m\u001b[1;33m,\u001b[0m \u001b[0mtexts\u001b[0m\u001b[1;33m)\u001b[0m\u001b[1;33m:\u001b[0m\u001b[1;33m\u001b[0m\u001b[1;33m\u001b[0m\u001b[0m\n\u001b[1;32m----> 2\u001b[1;33m     \u001b[1;32mreturn\u001b[0m \u001b[0mlist\u001b[0m\u001b[1;33m(\u001b[0m\u001b[0mnlp_model\u001b[0m\u001b[1;33m.\u001b[0m\u001b[0mpipe\u001b[0m\u001b[1;33m(\u001b[0m\u001b[0mtexts\u001b[0m\u001b[1;33m,\u001b[0m\u001b[0mdisable\u001b[0m\u001b[1;33m=\u001b[0m\u001b[1;33m[\u001b[0m\u001b[1;34m\"tagger\"\u001b[0m\u001b[1;33m,\u001b[0m \u001b[1;34m\"parser\"\u001b[0m\u001b[1;33m,\u001b[0m \u001b[1;34m\"ner\"\u001b[0m\u001b[1;33m]\u001b[0m\u001b[1;33m)\u001b[0m\u001b[1;33m)\u001b[0m\u001b[1;33m\u001b[0m\u001b[1;33m\u001b[0m\u001b[0m\n\u001b[0m",
      "\u001b[1;32m~\\AppData\\Roaming\\Python\\Python37\\site-packages\\spacy\\language.py\u001b[0m in \u001b[0;36mpipe\u001b[1;34m(self, texts, as_tuples, n_threads, batch_size, disable, cleanup, component_cfg, n_process)\u001b[0m\n\u001b[0;32m    817\u001b[0m         \u001b[0moriginal_strings_data\u001b[0m \u001b[1;33m=\u001b[0m \u001b[1;32mNone\u001b[0m\u001b[1;33m\u001b[0m\u001b[1;33m\u001b[0m\u001b[0m\n\u001b[0;32m    818\u001b[0m         \u001b[0mnr_seen\u001b[0m \u001b[1;33m=\u001b[0m \u001b[1;36m0\u001b[0m\u001b[1;33m\u001b[0m\u001b[1;33m\u001b[0m\u001b[0m\n\u001b[1;32m--> 819\u001b[1;33m         \u001b[1;32mfor\u001b[0m \u001b[0mdoc\u001b[0m \u001b[1;32min\u001b[0m \u001b[0mdocs\u001b[0m\u001b[1;33m:\u001b[0m\u001b[1;33m\u001b[0m\u001b[1;33m\u001b[0m\u001b[0m\n\u001b[0m\u001b[0;32m    820\u001b[0m             \u001b[1;32myield\u001b[0m \u001b[0mdoc\u001b[0m\u001b[1;33m\u001b[0m\u001b[1;33m\u001b[0m\u001b[0m\n\u001b[0;32m    821\u001b[0m             \u001b[1;32mif\u001b[0m \u001b[0mcleanup\u001b[0m\u001b[1;33m:\u001b[0m\u001b[1;33m\u001b[0m\u001b[1;33m\u001b[0m\u001b[0m\n",
      "\u001b[1;32m~\\AppData\\Roaming\\Python\\Python37\\site-packages\\spacy\\language.py\u001b[0m in \u001b[0;36m<genexpr>\u001b[1;34m(.0)\u001b[0m\n\u001b[0;32m    802\u001b[0m         \u001b[1;32melse\u001b[0m\u001b[1;33m:\u001b[0m\u001b[1;33m\u001b[0m\u001b[1;33m\u001b[0m\u001b[0m\n\u001b[0;32m    803\u001b[0m             \u001b[1;31m# if n_process == 1, no processes are forked.\u001b[0m\u001b[1;33m\u001b[0m\u001b[1;33m\u001b[0m\u001b[1;33m\u001b[0m\u001b[0m\n\u001b[1;32m--> 804\u001b[1;33m             \u001b[0mdocs\u001b[0m \u001b[1;33m=\u001b[0m \u001b[1;33m(\u001b[0m\u001b[0mself\u001b[0m\u001b[1;33m.\u001b[0m\u001b[0mmake_doc\u001b[0m\u001b[1;33m(\u001b[0m\u001b[0mtext\u001b[0m\u001b[1;33m)\u001b[0m \u001b[1;32mfor\u001b[0m \u001b[0mtext\u001b[0m \u001b[1;32min\u001b[0m \u001b[0mtexts\u001b[0m\u001b[1;33m)\u001b[0m\u001b[1;33m\u001b[0m\u001b[1;33m\u001b[0m\u001b[0m\n\u001b[0m\u001b[0;32m    805\u001b[0m             \u001b[1;32mfor\u001b[0m \u001b[0mpipe\u001b[0m \u001b[1;32min\u001b[0m \u001b[0mpipes\u001b[0m\u001b[1;33m:\u001b[0m\u001b[1;33m\u001b[0m\u001b[1;33m\u001b[0m\u001b[0m\n\u001b[0;32m    806\u001b[0m                 \u001b[0mdocs\u001b[0m \u001b[1;33m=\u001b[0m \u001b[0mpipe\u001b[0m\u001b[1;33m(\u001b[0m\u001b[0mdocs\u001b[0m\u001b[1;33m)\u001b[0m\u001b[1;33m\u001b[0m\u001b[1;33m\u001b[0m\u001b[0m\n",
      "\u001b[1;32m~\\AppData\\Roaming\\Python\\Python37\\site-packages\\spacy\\language.py\u001b[0m in \u001b[0;36mmake_doc\u001b[1;34m(self, text)\u001b[0m\n\u001b[0;32m    455\u001b[0m \u001b[1;33m\u001b[0m\u001b[0m\n\u001b[0;32m    456\u001b[0m     \u001b[1;32mdef\u001b[0m \u001b[0mmake_doc\u001b[0m\u001b[1;33m(\u001b[0m\u001b[0mself\u001b[0m\u001b[1;33m,\u001b[0m \u001b[0mtext\u001b[0m\u001b[1;33m)\u001b[0m\u001b[1;33m:\u001b[0m\u001b[1;33m\u001b[0m\u001b[1;33m\u001b[0m\u001b[0m\n\u001b[1;32m--> 457\u001b[1;33m         \u001b[1;32mreturn\u001b[0m \u001b[0mself\u001b[0m\u001b[1;33m.\u001b[0m\u001b[0mtokenizer\u001b[0m\u001b[1;33m(\u001b[0m\u001b[0mtext\u001b[0m\u001b[1;33m)\u001b[0m\u001b[1;33m\u001b[0m\u001b[1;33m\u001b[0m\u001b[0m\n\u001b[0m\u001b[0;32m    458\u001b[0m \u001b[1;33m\u001b[0m\u001b[0m\n\u001b[0;32m    459\u001b[0m     \u001b[1;32mdef\u001b[0m \u001b[0m_format_docs_and_golds\u001b[0m\u001b[1;33m(\u001b[0m\u001b[0mself\u001b[0m\u001b[1;33m,\u001b[0m \u001b[0mdocs\u001b[0m\u001b[1;33m,\u001b[0m \u001b[0mgolds\u001b[0m\u001b[1;33m)\u001b[0m\u001b[1;33m:\u001b[0m\u001b[1;33m\u001b[0m\u001b[1;33m\u001b[0m\u001b[0m\n",
      "\u001b[1;32mtokenizer.pyx\u001b[0m in \u001b[0;36mspacy.tokenizer.Tokenizer.__call__\u001b[1;34m()\u001b[0m\n",
      "\u001b[1;32mtokenizer.pyx\u001b[0m in \u001b[0;36mspacy.tokenizer.Tokenizer._tokenize\u001b[1;34m()\u001b[0m\n",
      "\u001b[1;32mtokenizer.pyx\u001b[0m in \u001b[0;36mspacy.tokenizer.Tokenizer._attach_tokens\u001b[1;34m()\u001b[0m\n",
      "\u001b[1;32mvocab.pyx\u001b[0m in \u001b[0;36mspacy.vocab.Vocab.get\u001b[1;34m()\u001b[0m\n",
      "\u001b[1;32mvocab.pyx\u001b[0m in \u001b[0;36mspacy.vocab.Vocab._new_lexeme\u001b[1;34m()\u001b[0m\n",
      "\u001b[1;32m~\\AppData\\Roaming\\Python\\Python37\\site-packages\\spacy\\lang\\lex_attrs.py\u001b[0m in \u001b[0;36mlower\u001b[1;34m(string)\u001b[0m\n\u001b[0;32m    176\u001b[0m \u001b[1;33m\u001b[0m\u001b[0m\n\u001b[0;32m    177\u001b[0m \u001b[1;32mdef\u001b[0m \u001b[0mlower\u001b[0m\u001b[1;33m(\u001b[0m\u001b[0mstring\u001b[0m\u001b[1;33m)\u001b[0m\u001b[1;33m:\u001b[0m\u001b[1;33m\u001b[0m\u001b[1;33m\u001b[0m\u001b[0m\n\u001b[1;32m--> 178\u001b[1;33m     \u001b[1;32mreturn\u001b[0m \u001b[0mstring\u001b[0m\u001b[1;33m.\u001b[0m\u001b[0mlower\u001b[0m\u001b[1;33m(\u001b[0m\u001b[1;33m)\u001b[0m\u001b[1;33m\u001b[0m\u001b[1;33m\u001b[0m\u001b[0m\n\u001b[0m\u001b[0;32m    179\u001b[0m \u001b[1;33m\u001b[0m\u001b[0m\n\u001b[0;32m    180\u001b[0m \u001b[1;33m\u001b[0m\u001b[0m\n",
      "\u001b[1;31mKeyboardInterrupt\u001b[0m: "
     ]
    }
   ],
   "source": [
    "start = datetime.now()\n",
    "docs_short_en = texts_to_docs(nlp_en_md, texts_short)\n",
    "end = datetime.now()\n",
    "print(\"Time for processing Zusammenfassung EN: \",(end-start).seconds, \"seconds\")\n",
    "start = datetime.now()\n",
    "docs_short_de = texts_to_docs(nlp_de_md, texts_short)\n",
    "end = datetime.now()\n",
    "print(\"Time for processing Zusammenfassung DE: \",(end-start).seconds, \"seconds\")\n",
    "\n",
    "start = datetime.now()\n",
    "docs_long_en = texts_to_docs(nlp_en_md, texts_long)\n",
    "end = datetime.now()\n",
    "print(\"Time for processing Description EN: \",(end-start).seconds, \"seconds\")\n",
    "start = datetime.now()\n",
    "docs_long_de = texts_to_docs(nlp_de_md, texts_long)\n",
    "end = datetime.now()\n",
    "print(\"Time for processing Description DE: \",(end-start).seconds, \"seconds\")"
   ]
  },
  {
   "cell_type": "markdown",
   "metadata": {},
   "source": [
    "### Extract the Vectors"
   ]
  },
  {
   "cell_type": "code",
   "execution_count": null,
   "metadata": {},
   "outputs": [],
   "source": [
    "def extract_vectors(docs):\n",
    "    return [doc.vector for doc in docs]    "
   ]
  },
  {
   "cell_type": "code",
   "execution_count": null,
   "metadata": {},
   "outputs": [],
   "source": [
    "doc_vectors_short_en = extract_vectors(docs_short_en)\n",
    "doc_vectors_short_de = extract_vectors(docs_short_de)\n",
    "doc_vectors_long_en = extract_vectors(docs_short_en)\n",
    "doc_vectors_long_de = extract_vectors(docs_short_de)"
   ]
  },
  {
   "cell_type": "markdown",
   "metadata": {},
   "source": [
    "### Append Vectors to Data"
   ]
  },
  {
   "cell_type": "code",
   "execution_count": 23,
   "metadata": {},
   "outputs": [
    {
     "data": {
      "text/html": [
       "<div>\n",
       "<style scoped>\n",
       "    .dataframe tbody tr th:only-of-type {\n",
       "        vertical-align: middle;\n",
       "    }\n",
       "\n",
       "    .dataframe tbody tr th {\n",
       "        vertical-align: top;\n",
       "    }\n",
       "\n",
       "    .dataframe thead th {\n",
       "        text-align: right;\n",
       "    }\n",
       "</style>\n",
       "<table border=\"1\" class=\"dataframe\">\n",
       "  <thead>\n",
       "    <tr style=\"text-align: right;\">\n",
       "      <th></th>\n",
       "      <th>Zusammenfassung</th>\n",
       "      <th>Description</th>\n",
       "      <th>Zusammenfassung_Vector_DE</th>\n",
       "      <th>Zusammenfassung_Vector_EN</th>\n",
       "      <th>Description_Vector_DE</th>\n",
       "      <th>Description_Vector_EN</th>\n",
       "    </tr>\n",
       "  </thead>\n",
       "  <tbody>\n",
       "    <tr>\n",
       "      <th>0</th>\n",
       "      <td>Troubleshooting WIN10 VPN PRobleme</td>\n",
       "      <td>Probleme mit SSLVPN auf WIN10 Client</td>\n",
       "      <td>[0.03622775, 0.0800695, -0.02087775, 0.0008647...</td>\n",
       "      <td>[0.14730251, 0.10227725, 0.2237225, -0.0277614...</td>\n",
       "      <td>[0.03622775, 0.0800695, -0.02087775, 0.0008647...</td>\n",
       "      <td>[0.14730251, 0.10227725, 0.2237225, -0.0277614...</td>\n",
       "    </tr>\n",
       "    <tr>\n",
       "      <th>1</th>\n",
       "      <td>Neuaufsetzen eines IT-Leihsystems (DEEI-NB-10584)</td>\n",
       "      <td>Neuaufsetzen eines IT-Leihsystems (DEEI-NB-10584)</td>\n",
       "      <td>[0.0, 0.0, 0.0, 0.0, 0.0, 0.0, 0.0, 0.0, 0.0, ...</td>\n",
       "      <td>[-0.038578, -0.00103804, 0.0117836, -0.00835, ...</td>\n",
       "      <td>[0.0, 0.0, 0.0, 0.0, 0.0, 0.0, 0.0, 0.0, 0.0, ...</td>\n",
       "      <td>[-0.038578, -0.00103804, 0.0117836, -0.00835, ...</td>\n",
       "    </tr>\n",
       "    <tr>\n",
       "      <th>2</th>\n",
       "      <td>SRQ: ToDo B-1973 - mod IT Services GmbH - Seba...</td>\n",
       "      <td>Bitte das NB 7480 für Sebastian einrichten.Ser...</td>\n",
       "      <td>[0.14195207, -0.08712593, 0.008474229, -0.0156...</td>\n",
       "      <td>[-0.007871474, -0.050947335, 0.080323614, 0.05...</td>\n",
       "      <td>[0.14195207, -0.08712593, 0.008474229, -0.0156...</td>\n",
       "      <td>[-0.007871474, -0.050947335, 0.080323614, 0.05...</td>\n",
       "    </tr>\n",
       "    <tr>\n",
       "      <th>3</th>\n",
       "      <td>Internet line NLET</td>\n",
       "      <td>Hello together,as there are no news since 17th...</td>\n",
       "      <td>[0.17060132, -0.25492266, -0.08748933, -0.0716...</td>\n",
       "      <td>[-0.08410999, 0.08107033, -0.14993, -0.17815, ...</td>\n",
       "      <td>[0.17060132, -0.25492266, -0.08748933, -0.0716...</td>\n",
       "      <td>[-0.08410999, 0.08107033, -0.14993, -0.17815, ...</td>\n",
       "    </tr>\n",
       "    <tr>\n",
       "      <th>4</th>\n",
       "      <td>AW: Internet line NLET</td>\n",
       "      <td>Hi Arnaud,any news regarding the new internet ...</td>\n",
       "      <td>[0.15208025, -0.2399915, -0.04284125, -0.02674...</td>\n",
       "      <td>[-0.18983749, 0.073735505, -0.14006999, -0.167...</td>\n",
       "      <td>[0.15208025, -0.2399915, -0.04284125, -0.02674...</td>\n",
       "      <td>[-0.18983749, 0.073735505, -0.14006999, -0.167...</td>\n",
       "    </tr>\n",
       "  </tbody>\n",
       "</table>\n",
       "</div>"
      ],
      "text/plain": [
       "                                     Zusammenfassung  \\\n",
       "0                 Troubleshooting WIN10 VPN PRobleme   \n",
       "1  Neuaufsetzen eines IT-Leihsystems (DEEI-NB-10584)   \n",
       "2  SRQ: ToDo B-1973 - mod IT Services GmbH - Seba...   \n",
       "3                                 Internet line NLET   \n",
       "4                             AW: Internet line NLET   \n",
       "\n",
       "                                         Description  \\\n",
       "0               Probleme mit SSLVPN auf WIN10 Client   \n",
       "1  Neuaufsetzen eines IT-Leihsystems (DEEI-NB-10584)   \n",
       "2  Bitte das NB 7480 für Sebastian einrichten.Ser...   \n",
       "3  Hello together,as there are no news since 17th...   \n",
       "4  Hi Arnaud,any news regarding the new internet ...   \n",
       "\n",
       "                           Zusammenfassung_Vector_DE  \\\n",
       "0  [0.03622775, 0.0800695, -0.02087775, 0.0008647...   \n",
       "1  [0.0, 0.0, 0.0, 0.0, 0.0, 0.0, 0.0, 0.0, 0.0, ...   \n",
       "2  [0.14195207, -0.08712593, 0.008474229, -0.0156...   \n",
       "3  [0.17060132, -0.25492266, -0.08748933, -0.0716...   \n",
       "4  [0.15208025, -0.2399915, -0.04284125, -0.02674...   \n",
       "\n",
       "                           Zusammenfassung_Vector_EN  \\\n",
       "0  [0.14730251, 0.10227725, 0.2237225, -0.0277614...   \n",
       "1  [-0.038578, -0.00103804, 0.0117836, -0.00835, ...   \n",
       "2  [-0.007871474, -0.050947335, 0.080323614, 0.05...   \n",
       "3  [-0.08410999, 0.08107033, -0.14993, -0.17815, ...   \n",
       "4  [-0.18983749, 0.073735505, -0.14006999, -0.167...   \n",
       "\n",
       "                               Description_Vector_DE  \\\n",
       "0  [0.03622775, 0.0800695, -0.02087775, 0.0008647...   \n",
       "1  [0.0, 0.0, 0.0, 0.0, 0.0, 0.0, 0.0, 0.0, 0.0, ...   \n",
       "2  [0.14195207, -0.08712593, 0.008474229, -0.0156...   \n",
       "3  [0.17060132, -0.25492266, -0.08748933, -0.0716...   \n",
       "4  [0.15208025, -0.2399915, -0.04284125, -0.02674...   \n",
       "\n",
       "                               Description_Vector_EN  \n",
       "0  [0.14730251, 0.10227725, 0.2237225, -0.0277614...  \n",
       "1  [-0.038578, -0.00103804, 0.0117836, -0.00835, ...  \n",
       "2  [-0.007871474, -0.050947335, 0.080323614, 0.05...  \n",
       "3  [-0.08410999, 0.08107033, -0.14993, -0.17815, ...  \n",
       "4  [-0.18983749, 0.073735505, -0.14006999, -0.167...  "
      ]
     },
     "execution_count": 23,
     "metadata": {},
     "output_type": "execute_result"
    }
   ],
   "source": [
    "df[\"Zusammenfassung_Vector_DE\"] = doc_vectors_short_de\n",
    "df[\"Zusammenfassung_Vector_EN\"] = doc_vectors_short_en\n",
    "df[\"Description_Vector_DE\"] = doc_vectors_long_de\n",
    "df[\"Description_Vector_EN\"] = doc_vectors_long_en\n",
    "df.head()"
   ]
  },
  {
   "cell_type": "markdown",
   "metadata": {},
   "source": [
    "### save data"
   ]
  },
  {
   "cell_type": "code",
   "execution_count": 24,
   "metadata": {},
   "outputs": [],
   "source": [
    "df.to_csv(join(save_path,save_name))"
   ]
  },
  {
   "cell_type": "code",
   "execution_count": null,
   "metadata": {},
   "outputs": [],
   "source": []
  }
 ],
 "metadata": {
  "kernelspec": {
   "display_name": "Python 3",
   "language": "python",
   "name": "python3"
  },
  "language_info": {
   "codemirror_mode": {
    "name": "ipython",
    "version": 3
   },
   "file_extension": ".py",
   "mimetype": "text/x-python",
   "name": "python",
   "nbconvert_exporter": "python",
   "pygments_lexer": "ipython3",
   "version": "3.7.7"
  }
 },
 "nbformat": 4,
 "nbformat_minor": 4
}
