{
 "cells": [
  {
   "cell_type": "code",
   "execution_count": 1,
   "metadata": {},
   "outputs": [
    {
     "ename": "KeyboardInterrupt",
     "evalue": "",
     "output_type": "error",
     "traceback": [
      "\u001b[1;31m---------------------------------------------------------------------------\u001b[0m",
      "\u001b[1;31mKeyboardInterrupt\u001b[0m                         Traceback (most recent call last)",
      "\u001b[1;32m<ipython-input-1-0889ead0d499>\u001b[0m in \u001b[0;36m<module>\u001b[1;34m\u001b[0m\n\u001b[1;32m----> 1\u001b[1;33m \u001b[1;32mimport\u001b[0m \u001b[0mspacy\u001b[0m\u001b[1;33m\u001b[0m\u001b[1;33m\u001b[0m\u001b[0m\n\u001b[0m\u001b[0;32m      2\u001b[0m \u001b[1;32mimport\u001b[0m \u001b[0mpandas\u001b[0m \u001b[1;32mas\u001b[0m \u001b[0mpd\u001b[0m\u001b[1;33m\u001b[0m\u001b[1;33m\u001b[0m\u001b[0m\n\u001b[0;32m      3\u001b[0m \u001b[1;32mimport\u001b[0m \u001b[0mseaborn\u001b[0m \u001b[1;32mas\u001b[0m \u001b[0msns\u001b[0m\u001b[1;33m\u001b[0m\u001b[1;33m\u001b[0m\u001b[0m\n\u001b[0;32m      4\u001b[0m \u001b[1;32mimport\u001b[0m \u001b[0mmatplotlib\u001b[0m\u001b[1;33m.\u001b[0m\u001b[0mpyplot\u001b[0m \u001b[1;32mas\u001b[0m \u001b[0mplt\u001b[0m\u001b[1;33m\u001b[0m\u001b[1;33m\u001b[0m\u001b[0m\n\u001b[0;32m      5\u001b[0m \u001b[1;32mfrom\u001b[0m \u001b[0mdatetime\u001b[0m \u001b[1;32mimport\u001b[0m \u001b[0mdatetime\u001b[0m\u001b[1;33m\u001b[0m\u001b[1;33m\u001b[0m\u001b[0m\n",
      "\u001b[1;32m~\\AppData\\Roaming\\Python\\Python37\\site-packages\\spacy\\__init__.py\u001b[0m in \u001b[0;36m<module>\u001b[1;34m\u001b[0m\n\u001b[0;32m      8\u001b[0m \u001b[1;33m\u001b[0m\u001b[0m\n\u001b[0;32m      9\u001b[0m \u001b[1;31m# These are imported as part of the API\u001b[0m\u001b[1;33m\u001b[0m\u001b[1;33m\u001b[0m\u001b[1;33m\u001b[0m\u001b[0m\n\u001b[1;32m---> 10\u001b[1;33m \u001b[1;32mfrom\u001b[0m \u001b[0mthinc\u001b[0m\u001b[1;33m.\u001b[0m\u001b[0mneural\u001b[0m\u001b[1;33m.\u001b[0m\u001b[0mutil\u001b[0m \u001b[1;32mimport\u001b[0m \u001b[0mprefer_gpu\u001b[0m\u001b[1;33m,\u001b[0m \u001b[0mrequire_gpu\u001b[0m\u001b[1;33m\u001b[0m\u001b[1;33m\u001b[0m\u001b[0m\n\u001b[0m\u001b[0;32m     11\u001b[0m \u001b[1;33m\u001b[0m\u001b[0m\n\u001b[0;32m     12\u001b[0m \u001b[1;32mfrom\u001b[0m \u001b[1;33m.\u001b[0m \u001b[1;32mimport\u001b[0m \u001b[0mpipeline\u001b[0m\u001b[1;33m\u001b[0m\u001b[1;33m\u001b[0m\u001b[0m\n",
      "\u001b[1;32m~\\AppData\\Roaming\\Python\\Python37\\site-packages\\thinc\\__init__.py\u001b[0m in \u001b[0;36m<module>\u001b[1;34m\u001b[0m\n\u001b[0;32m      3\u001b[0m \u001b[1;33m\u001b[0m\u001b[0m\n\u001b[0;32m      4\u001b[0m \u001b[1;31m# Necessary for some side-effects in Cython. Not sure I understand.\u001b[0m\u001b[1;33m\u001b[0m\u001b[1;33m\u001b[0m\u001b[1;33m\u001b[0m\u001b[0m\n\u001b[1;32m----> 5\u001b[1;33m \u001b[1;32mimport\u001b[0m \u001b[0mnumpy\u001b[0m  \u001b[1;31m# noqa: F401\u001b[0m\u001b[1;33m\u001b[0m\u001b[1;33m\u001b[0m\u001b[0m\n\u001b[0m\u001b[0;32m      6\u001b[0m \u001b[1;33m\u001b[0m\u001b[0m\n\u001b[0;32m      7\u001b[0m \u001b[1;32mfrom\u001b[0m \u001b[1;33m.\u001b[0m\u001b[0mabout\u001b[0m \u001b[1;32mimport\u001b[0m \u001b[0m__name__\u001b[0m\u001b[1;33m,\u001b[0m \u001b[0m__version__\u001b[0m  \u001b[1;31m# noqa: F401\u001b[0m\u001b[1;33m\u001b[0m\u001b[1;33m\u001b[0m\u001b[0m\n",
      "\u001b[1;32m~\\anaconda3\\envs\\spacy_textclassification\\lib\\site-packages\\numpy\\__init__.py\u001b[0m in \u001b[0;36m<module>\u001b[1;34m\u001b[0m\n\u001b[0;32m    234\u001b[0m \u001b[1;33m\u001b[0m\u001b[0m\n\u001b[0;32m    235\u001b[0m     \u001b[1;32mimport\u001b[0m \u001b[0mmkl\u001b[0m\u001b[1;33m\u001b[0m\u001b[1;33m\u001b[0m\u001b[0m\n\u001b[1;32m--> 236\u001b[1;33m     \u001b[0m__mkl_version__\u001b[0m \u001b[1;33m=\u001b[0m \u001b[1;34m\"{MajorVersion}.{UpdateVersion}\"\u001b[0m\u001b[1;33m.\u001b[0m\u001b[0mformat\u001b[0m\u001b[1;33m(\u001b[0m\u001b[1;33m**\u001b[0m\u001b[0mmkl\u001b[0m\u001b[1;33m.\u001b[0m\u001b[0mget_version\u001b[0m\u001b[1;33m(\u001b[0m\u001b[1;33m)\u001b[0m\u001b[1;33m)\u001b[0m\u001b[1;33m\u001b[0m\u001b[1;33m\u001b[0m\u001b[0m\n\u001b[0m\u001b[0;32m    237\u001b[0m \u001b[1;33m\u001b[0m\u001b[0m\n\u001b[0;32m    238\u001b[0m \u001b[1;33m\u001b[0m\u001b[0m\n",
      "\u001b[1;31mKeyboardInterrupt\u001b[0m: "
     ]
    }
   ],
   "source": [
    "import spacy\n",
    "import pandas as pd\n",
    "import seaborn as sns\n",
    "import matplotlib.pyplot as plt\n",
    "from datetime import datetime\n",
    "from os.path import join, exists"
   ]
  },
  {
   "cell_type": "markdown",
   "metadata": {},
   "source": [
    "## Extracting WordEmbeddings with Spacy"
   ]
  },
  {
   "cell_type": "markdown",
   "metadata": {},
   "source": [
    "### Params"
   ]
  },
  {
   "cell_type": "code",
   "execution_count": 101,
   "metadata": {},
   "outputs": [],
   "source": [
    "data_path = \"data/Export_KI_ALL_Tickets_202005121335.csv\"\n",
    "assert exists(data_path)\n",
    "save_path = \"data/\"\n",
    "save_name = \"vectors_de_en_core_md_no_preprocessing_test.csv\"\n",
    "remove_stop_words = True"
   ]
  },
  {
   "cell_type": "markdown",
   "metadata": {},
   "source": [
    "### Load the Models"
   ]
  },
  {
   "cell_type": "code",
   "execution_count": 130,
   "metadata": {},
   "outputs": [
    {
     "name": "stdout",
     "output_type": "stream",
     "text": [
      "en\n",
      "['tagger', 'parser', 'ner']\n"
     ]
    },
    {
     "name": "stderr",
     "output_type": "stream",
     "text": [
      "\n",
      "KeyboardInterrupt\n",
      "\n"
     ]
    }
   ],
   "source": [
    "# english and german pretrained  core models with bulit in word-vectors\n",
    "# run ($ python -m spacy download en_core_web_md) to download model first\n",
    "nlp_en_md = spacy.load(\"en_core_web_md\")\n",
    "print(nlp_en_md.lang)\n",
    "print(nlp_en_md.pipe_names)\n",
    "nlp_de_md = spacy.load(\"de_core_news_md\")\n",
    "print(nlp_de_md.lang)\n",
    "print(nlp_de_md.pipe_names)"
   ]
  },
  {
   "cell_type": "markdown",
   "metadata": {},
   "source": [
    "### Add optional Preprocessing"
   ]
  },
  {
   "cell_type": "code",
   "execution_count": null,
   "metadata": {},
   "outputs": [],
   "source": [
    "test = \"Hallo with three Cars Internet\"\n",
    "doc = nlp_en_md(test)\n",
    "print(doc.text)"
   ]
  },
  {
   "cell_type": "code",
   "execution_count": null,
   "metadata": {},
   "outputs": [],
   "source": [
    "if remove_stop_words:\n",
    "    \n",
    "    def stopword_remover(doc):\n",
    "        new_doc = spacy.tokens.Doc(doc.vocab, words=[token.text for token in doc if not token.is_stop])\n",
    "        return new_doc\n",
    "    \n",
    "    def add_stopword_remover_to_pipe(model):\n",
    "        if \"stopword_remover\" not in model.pipe_names:\n",
    "            model.add_pipe(stopword_remover, first=True, name=\"stopword_remover\")\n",
    "            print(model.pipe_names)\n",
    "    \n",
    "    add_stopword_remover_to_pipe(nlp_de_md)\n",
    "    add_stopword_remover_to_pipe(nlp_en_md)\n",
    "    "
   ]
  },
  {
   "cell_type": "code",
   "execution_count": null,
   "metadata": {},
   "outputs": [],
   "source": [
    "test = \"Hallo with three Cars Internet\"\n",
    "doc = nlp_en_md(test)\n",
    "print(doc.text)"
   ]
  },
  {
   "cell_type": "markdown",
   "metadata": {},
   "source": [
    "### Load and prepare the Data"
   ]
  },
  {
   "cell_type": "code",
   "execution_count": 102,
   "metadata": {},
   "outputs": [],
   "source": [
    "use_cols = [\"Zusammenfassung\", \"Description\"]\n",
    "df = pd.read_csv(data_path, usecols = use_cols)"
   ]
  },
  {
   "cell_type": "code",
   "execution_count": 103,
   "metadata": {},
   "outputs": [],
   "source": [
    "# fill nan with empty string\n",
    "df = df.fillna(\"\")"
   ]
  },
  {
   "cell_type": "code",
   "execution_count": 106,
   "metadata": {},
   "outputs": [],
   "source": [
    "df = df.iloc[:100] # shorten data for test purposes\n",
    "texts_short = df[\"Zusammenfassung\"].values\n",
    "texts_long = df[\"Description\"].values"
   ]
  },
  {
   "cell_type": "markdown",
   "metadata": {},
   "source": [
    "### Process the Text with Spacy Models"
   ]
  },
  {
   "cell_type": "code",
   "execution_count": 115,
   "metadata": {},
   "outputs": [],
   "source": [
    "def texts_to_docs(nlp_model, texts):\n",
    "    return list(nlp_model.pipe(texts,disable=[\"tagger\", \"parser\", \"ner\"]))"
   ]
  },
  {
   "cell_type": "code",
   "execution_count": 116,
   "metadata": {},
   "outputs": [
    {
     "name": "stdout",
     "output_type": "stream",
     "text": [
      "Time for procesing Zusammenfassung:  0 seconds\n",
      "Time for procesing Description:  0 seconds\n"
     ]
    }
   ],
   "source": [
    "start = datetime.now()\n",
    "docs_short_en = texts_to_docs(nlp_en_md, texts_short)\n",
    "end = datetime.now()\n",
    "print(\"Time for procesing Zusammenfassung: \",(end-start).seconds, \"seconds\")\n",
    "docs_short_de = texts_to_docs(nlp_de_md, texts_short)\n",
    "\n",
    "start = datetime.now()\n",
    "docs_long_en = texts_to_docs(nlp_en_md, texts_long)\n",
    "end = datetime.now()\n",
    "print(\"Time for procesing Description: \",(end-start).seconds, \"seconds\")\n",
    "docs_long_de = texts_to_docs(nlp_de_md, texts_long)"
   ]
  },
  {
   "cell_type": "markdown",
   "metadata": {},
   "source": [
    "### Optional preprocessing"
   ]
  },
  {
   "cell_type": "code",
   "execution_count": 112,
   "metadata": {},
   "outputs": [
    {
     "name": "stdout",
     "output_type": "stream",
     "text": [
      "Probleme mit SSLVPN auf WIN10 Client\n",
      "Number of stop words EN: 326\n",
      "First ten stop words EN: ['keep', 'behind', 'here', 'at', 'of', 'during', 'hundred', 'make', 'for', 'about']\n",
      "Number of stop words DE: 543\n",
      "First ten stop words DE: ['dabei', 'ach', 'eben', 'gegenüber', 'wirklich', 'rechte', 'drei', 'sondern', 'deinem', 'sechstes']\n"
     ]
    },
    {
     "ename": "AttributeError",
     "evalue": "'list' object has no attribute 'text'",
     "output_type": "error",
     "traceback": [
      "\u001b[1;31m---------------------------------------------------------------------------\u001b[0m",
      "\u001b[1;31mAttributeError\u001b[0m                            Traceback (most recent call last)",
      "\u001b[1;32m<ipython-input-112-13f2196fe4e0>\u001b[0m in \u001b[0;36m<module>\u001b[1;34m\u001b[0m\n\u001b[0;32m     17\u001b[0m     \u001b[0mdocs_long_en\u001b[0m \u001b[1;33m=\u001b[0m \u001b[0mremove_stopwords\u001b[0m\u001b[1;33m(\u001b[0m\u001b[0mdocs_long_en\u001b[0m\u001b[1;33m)\u001b[0m\u001b[1;33m\u001b[0m\u001b[1;33m\u001b[0m\u001b[0m\n\u001b[0;32m     18\u001b[0m     \u001b[0mdocs_long_de\u001b[0m \u001b[1;33m=\u001b[0m \u001b[0mremove_stopwords\u001b[0m\u001b[1;33m(\u001b[0m\u001b[0mdocs_long_de\u001b[0m\u001b[1;33m)\u001b[0m\u001b[1;33m\u001b[0m\u001b[1;33m\u001b[0m\u001b[0m\n\u001b[1;32m---> 19\u001b[1;33m     \u001b[0mprint\u001b[0m\u001b[1;33m(\u001b[0m\u001b[0mdocs_long_de\u001b[0m\u001b[1;33m[\u001b[0m\u001b[1;36m0\u001b[0m\u001b[1;33m]\u001b[0m\u001b[1;33m.\u001b[0m\u001b[0mtext\u001b[0m\u001b[1;33m)\u001b[0m\u001b[1;33m\u001b[0m\u001b[1;33m\u001b[0m\u001b[0m\n\u001b[0m\u001b[0;32m     20\u001b[0m \u001b[1;33m\u001b[0m\u001b[0m\n",
      "\u001b[1;31mAttributeError\u001b[0m: 'list' object has no attribute 'text'"
     ]
    }
   ],
   "source": [
    "if remove_stop_words:\n",
    "    print(docs_long_de[0].text)\n",
    "    spacy_stopwords_en = spacy.lang.en.stop_words.STOP_WORDS\n",
    "    print('Number of stop words EN: %d' % len(spacy_stopwords_en))\n",
    "    print('First ten stop words EN: %s' % list(spacy_stopwords_en)[:10])\n",
    "    spacy_stopwords_de = spacy.lang.de.stop_words.STOP_WORDS\n",
    "    print('Number of stop words DE: %d' % len(spacy_stopwords_de))\n",
    "    print('First ten stop words DE: %s' % list(spacy_stopwords_de)[:10])\n",
    "    \n",
    "    def stopword_remover(doc):\n",
    "        new_doc = Doc(doc.vocab, words=[token.text for token in doc if not token.is_stop])\n",
    "        return new_doc\n",
    "    \n",
    "    def remove_stopwords_from_doc(doc):\n",
    "        return [token for token in doc if not token.is_stop]\n",
    "    def remove_stopwords(docs):\n",
    "        return [remove_stopwords_from_doc(doc) for doc in docs]\n",
    "    \n",
    "    docs_short_en = remove_stopwords(docs_short_en)\n",
    "    docs_short_de = remove_stopwords(docs_short_de)\n",
    "    docs_long_en = remove_stopwords(docs_long_en)\n",
    "    docs_long_de = remove_stopwords(docs_long_de)\n",
    "    print(docs_long_de[0].text)\n",
    "    "
   ]
  },
  {
   "cell_type": "markdown",
   "metadata": {},
   "source": [
    "### Extract the Vectors"
   ]
  },
  {
   "cell_type": "code",
   "execution_count": 84,
   "metadata": {},
   "outputs": [],
   "source": [
    "def extract_vectors(docs):\n",
    "    return [doc.vector for doc in docs]    "
   ]
  },
  {
   "cell_type": "code",
   "execution_count": 85,
   "metadata": {},
   "outputs": [],
   "source": [
    "doc_vectors_short_en = extract_vectors(docs_short_en)\n",
    "doc_vectors_short_de = extract_vectors(docs_short_de)\n",
    "doc_vectors_long_en = extract_vectors(docs_short_en)\n",
    "doc_vectors_long_de = extract_vectors(docs_short_de)"
   ]
  },
  {
   "cell_type": "markdown",
   "metadata": {},
   "source": [
    "### Append Vectors to Data"
   ]
  },
  {
   "cell_type": "code",
   "execution_count": 86,
   "metadata": {},
   "outputs": [
    {
     "data": {
      "text/html": [
       "<div>\n",
       "<style scoped>\n",
       "    .dataframe tbody tr th:only-of-type {\n",
       "        vertical-align: middle;\n",
       "    }\n",
       "\n",
       "    .dataframe tbody tr th {\n",
       "        vertical-align: top;\n",
       "    }\n",
       "\n",
       "    .dataframe thead th {\n",
       "        text-align: right;\n",
       "    }\n",
       "</style>\n",
       "<table border=\"1\" class=\"dataframe\">\n",
       "  <thead>\n",
       "    <tr style=\"text-align: right;\">\n",
       "      <th></th>\n",
       "      <th>Zusammenfassung</th>\n",
       "      <th>Description</th>\n",
       "      <th>Zusammenfassung_Vector_DE</th>\n",
       "      <th>Zusammenfassung_Vector_EN</th>\n",
       "      <th>Description_Vector_DE</th>\n",
       "      <th>Description_Vector_EN</th>\n",
       "    </tr>\n",
       "  </thead>\n",
       "  <tbody>\n",
       "    <tr>\n",
       "      <th>0</th>\n",
       "      <td>Troubleshooting WIN10 VPN PRobleme</td>\n",
       "      <td>Probleme mit SSLVPN auf WIN10 Client</td>\n",
       "      <td>[0.03622775, 0.0800695, -0.02087775, 0.0008647...</td>\n",
       "      <td>[0.14730251, 0.10227725, 0.2237225, -0.0277614...</td>\n",
       "      <td>[0.03622775, 0.0800695, -0.02087775, 0.0008647...</td>\n",
       "      <td>[0.14730251, 0.10227725, 0.2237225, -0.0277614...</td>\n",
       "    </tr>\n",
       "    <tr>\n",
       "      <th>1</th>\n",
       "      <td>Neuaufsetzen eines IT-Leihsystems (DEEI-NB-10584)</td>\n",
       "      <td>Neuaufsetzen eines IT-Leihsystems (DEEI-NB-10584)</td>\n",
       "      <td>[0.11769233, 0.006969167, 0.18289499, 0.0163, ...</td>\n",
       "      <td>[-0.10569471, 0.17416045, -0.0766649, 0.081386...</td>\n",
       "      <td>[0.11769233, 0.006969167, 0.18289499, 0.0163, ...</td>\n",
       "      <td>[-0.10569471, 0.17416045, -0.0766649, 0.081386...</td>\n",
       "    </tr>\n",
       "    <tr>\n",
       "      <th>2</th>\n",
       "      <td>SRQ: ToDo B-1973 - mod IT Services GmbH - Seba...</td>\n",
       "      <td>Bitte das NB 7480 für Sebastian einrichten.Ser...</td>\n",
       "      <td>[0.12324329, -0.039272, 0.007267351, 0.0158169...</td>\n",
       "      <td>[-0.041469928, 0.122295424, 0.01044979, 0.0932...</td>\n",
       "      <td>[0.12324329, -0.039272, 0.007267351, 0.0158169...</td>\n",
       "      <td>[-0.041469928, 0.122295424, 0.01044979, 0.0932...</td>\n",
       "    </tr>\n",
       "    <tr>\n",
       "      <th>3</th>\n",
       "      <td>Internet line NLET</td>\n",
       "      <td>Hello together,as there are no news since 17th...</td>\n",
       "      <td>[0.17060132, -0.25492266, -0.08748933, -0.0716...</td>\n",
       "      <td>[-0.08410999, 0.08107033, -0.14993, -0.17815, ...</td>\n",
       "      <td>[0.17060132, -0.25492266, -0.08748933, -0.0716...</td>\n",
       "      <td>[-0.08410999, 0.08107033, -0.14993, -0.17815, ...</td>\n",
       "    </tr>\n",
       "    <tr>\n",
       "      <th>4</th>\n",
       "      <td>AW: Internet line NLET</td>\n",
       "      <td>Hi Arnaud,any news regarding the new internet ...</td>\n",
       "      <td>[0.1216642, -0.1919932, -0.034273, -0.0213934,...</td>\n",
       "      <td>[-0.15012078, 0.1254164, -0.170406, -0.1643039...</td>\n",
       "      <td>[0.1216642, -0.1919932, -0.034273, -0.0213934,...</td>\n",
       "      <td>[-0.15012078, 0.1254164, -0.170406, -0.1643039...</td>\n",
       "    </tr>\n",
       "  </tbody>\n",
       "</table>\n",
       "</div>"
      ],
      "text/plain": [
       "                                     Zusammenfassung  \\\n",
       "0                 Troubleshooting WIN10 VPN PRobleme   \n",
       "1  Neuaufsetzen eines IT-Leihsystems (DEEI-NB-10584)   \n",
       "2  SRQ: ToDo B-1973 - mod IT Services GmbH - Seba...   \n",
       "3                                 Internet line NLET   \n",
       "4                             AW: Internet line NLET   \n",
       "\n",
       "                                         Description  \\\n",
       "0               Probleme mit SSLVPN auf WIN10 Client   \n",
       "1  Neuaufsetzen eines IT-Leihsystems (DEEI-NB-10584)   \n",
       "2  Bitte das NB 7480 für Sebastian einrichten.Ser...   \n",
       "3  Hello together,as there are no news since 17th...   \n",
       "4  Hi Arnaud,any news regarding the new internet ...   \n",
       "\n",
       "                           Zusammenfassung_Vector_DE  \\\n",
       "0  [0.03622775, 0.0800695, -0.02087775, 0.0008647...   \n",
       "1  [0.11769233, 0.006969167, 0.18289499, 0.0163, ...   \n",
       "2  [0.12324329, -0.039272, 0.007267351, 0.0158169...   \n",
       "3  [0.17060132, -0.25492266, -0.08748933, -0.0716...   \n",
       "4  [0.1216642, -0.1919932, -0.034273, -0.0213934,...   \n",
       "\n",
       "                           Zusammenfassung_Vector_EN  \\\n",
       "0  [0.14730251, 0.10227725, 0.2237225, -0.0277614...   \n",
       "1  [-0.10569471, 0.17416045, -0.0766649, 0.081386...   \n",
       "2  [-0.041469928, 0.122295424, 0.01044979, 0.0932...   \n",
       "3  [-0.08410999, 0.08107033, -0.14993, -0.17815, ...   \n",
       "4  [-0.15012078, 0.1254164, -0.170406, -0.1643039...   \n",
       "\n",
       "                               Description_Vector_DE  \\\n",
       "0  [0.03622775, 0.0800695, -0.02087775, 0.0008647...   \n",
       "1  [0.11769233, 0.006969167, 0.18289499, 0.0163, ...   \n",
       "2  [0.12324329, -0.039272, 0.007267351, 0.0158169...   \n",
       "3  [0.17060132, -0.25492266, -0.08748933, -0.0716...   \n",
       "4  [0.1216642, -0.1919932, -0.034273, -0.0213934,...   \n",
       "\n",
       "                               Description_Vector_EN  \n",
       "0  [0.14730251, 0.10227725, 0.2237225, -0.0277614...  \n",
       "1  [-0.10569471, 0.17416045, -0.0766649, 0.081386...  \n",
       "2  [-0.041469928, 0.122295424, 0.01044979, 0.0932...  \n",
       "3  [-0.08410999, 0.08107033, -0.14993, -0.17815, ...  \n",
       "4  [-0.15012078, 0.1254164, -0.170406, -0.1643039...  "
      ]
     },
     "execution_count": 86,
     "metadata": {},
     "output_type": "execute_result"
    }
   ],
   "source": [
    "df[\"Zusammenfassung_Vector_DE\"] = doc_vectors_short_de\n",
    "df[\"Zusammenfassung_Vector_EN\"] = doc_vectors_short_en\n",
    "df[\"Description_Vector_DE\"] = doc_vectors_long_de\n",
    "df[\"Description_Vector_EN\"] = doc_vectors_long_en\n",
    "df.head()"
   ]
  },
  {
   "cell_type": "markdown",
   "metadata": {},
   "source": [
    "### save data"
   ]
  },
  {
   "cell_type": "code",
   "execution_count": 78,
   "metadata": {},
   "outputs": [],
   "source": [
    "df.to_csv(join(save_path,save_name))"
   ]
  },
  {
   "cell_type": "code",
   "execution_count": null,
   "metadata": {},
   "outputs": [],
   "source": []
  }
 ],
 "metadata": {
  "kernelspec": {
   "display_name": "Python 3",
   "language": "python",
   "name": "python3"
  },
  "language_info": {
   "codemirror_mode": {
    "name": "ipython",
    "version": 3
   },
   "file_extension": ".py",
   "mimetype": "text/x-python",
   "name": "python",
   "nbconvert_exporter": "python",
   "pygments_lexer": "ipython3",
   "version": "3.7.7"
  }
 },
 "nbformat": 4,
 "nbformat_minor": 4
}
